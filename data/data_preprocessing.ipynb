{
 "cells": [
  {
   "cell_type": "code",
   "id": "initial_id",
   "metadata": {
    "collapsed": true,
    "ExecuteTime": {
     "end_time": "2024-06-15T01:47:17.321604Z",
     "start_time": "2024-06-15T01:47:15.949550Z"
    }
   },
   "source": [
    "import pandas as pd\n",
    "import json\n",
    "import csv\n"
   ],
   "outputs": [],
   "execution_count": 2
  },
  {
   "metadata": {
    "ExecuteTime": {
     "end_time": "2024-06-14T04:13:18.744778Z",
     "start_time": "2024-06-14T04:13:18.128247Z"
    }
   },
   "cell_type": "code",
   "source": [
    "with open('chatbot_dialogue.json', 'r', encoding='utf-8') as f:\n",
    "    json_data = json.load(f)\n",
    "\n",
    "df= pd.DataFrame(json_data)\n",
    "df.head(10)"
   ],
   "id": "61941be4e65e9568",
   "outputs": [
    {
     "data": {
      "text/plain": [
       "     도메인           카테고리 대화셋일련번호   화자 문장번호      고객의도     상담사의도 QA  \\\n",
       "0  금융/보험  이체, 출금, 대출서비스   A4073   고객    1  전세자금대출금리            Q   \n",
       "1  금융/보험  이체, 출금, 대출서비스   A4073  상담사    2            전세자금대출금리  A   \n",
       "2  금융/보험  이체, 출금, 대출서비스   A4073   고객    3  전세자금대출금리            Q   \n",
       "3  금융/보험  이체, 출금, 대출서비스   A4073  상담사    4            전세자금대출금리  A   \n",
       "4  금융/보험  이체, 출금, 대출서비스   A4073   고객    5  전세자금대출금리            Q   \n",
       "5  금융/보험  이체, 출금, 대출서비스   A4073  상담사    6            전세자금대출금리  A   \n",
       "6  금융/보험  이체, 출금, 대출서비스   A4073   고객    7  전세자금대출금리            Q   \n",
       "7  금융/보험  이체, 출금, 대출서비스   A4073  상담사    8            전세자금대출금리  A   \n",
       "8  금융/보험  이체, 출금, 대출서비스   A4073   고객    9  전세자금대출금리            Q   \n",
       "9  금융/보험  이체, 출금, 대출서비스   A4073  상담사   10            전세자금대출금리  A   \n",
       "\n",
       "                                 고객질문(요청) 상담사질문(요청) 고객답변  \\\n",
       "0                 신혼부부 전세자금 대출 최저금리가 얼마죠?                  \n",
       "1                                                          \n",
       "2                  더 저렴하게 받으려면 어떻게 해야하나요?                  \n",
       "3                                                          \n",
       "4                     그것 말고도 낮출 방법이 있을까요?                  \n",
       "5                                                          \n",
       "6                        3.5%는 몇 년 상환인거죠?                  \n",
       "7                                                          \n",
       "8  그럼 15년 상환으로 바꾸면 금리를 조금 더 낮출 수 있다는 거군요?                  \n",
       "9                                                          \n",
       "\n",
       "                              상담사답변                  개체명   \\\n",
       "0                                    신혼부부, 전세자금, 대출, 최저금리   \n",
       "1                    고정금리로 3.5%입니다.            고정금리, 3.5%   \n",
       "2                                                           \n",
       "3  변동금리로 받으시면 조금 더 저렴하게 받으실 수 있습니다.                  변동금리   \n",
       "4                                                      방법   \n",
       "5               기간을 짧게 잡아주시면 가능합니다.                    기간   \n",
       "6                                                3.5%, 상환   \n",
       "7                      30년 상환기준입니다.             30년, 상환기준   \n",
       "8                                             15년, 상환, 금리   \n",
       "9                         네, 그렇습니다.                         \n",
       "\n",
       "                  용어사전      지식베이스  \n",
       "0  전세자금/전세자금대출/신혼부부/금리    전세자금,금리  \n",
       "1              3.5%/이율    3.5%,이율  \n",
       "2                                  \n",
       "3    전세자금/변동금리/금리/신혼부부  변동금리,신혼부부  \n",
       "4                              방법  \n",
       "5                              기간  \n",
       "6              3.5%/이율      상환,이율  \n",
       "7               30년/기간    상환기준,기간  \n",
       "8               15년/기간      상환,기간  \n",
       "9                                  "
      ],
      "text/html": [
       "<div>\n",
       "<style scoped>\n",
       "    .dataframe tbody tr th:only-of-type {\n",
       "        vertical-align: middle;\n",
       "    }\n",
       "\n",
       "    .dataframe tbody tr th {\n",
       "        vertical-align: top;\n",
       "    }\n",
       "\n",
       "    .dataframe thead th {\n",
       "        text-align: right;\n",
       "    }\n",
       "</style>\n",
       "<table border=\"1\" class=\"dataframe\">\n",
       "  <thead>\n",
       "    <tr style=\"text-align: right;\">\n",
       "      <th></th>\n",
       "      <th>도메인</th>\n",
       "      <th>카테고리</th>\n",
       "      <th>대화셋일련번호</th>\n",
       "      <th>화자</th>\n",
       "      <th>문장번호</th>\n",
       "      <th>고객의도</th>\n",
       "      <th>상담사의도</th>\n",
       "      <th>QA</th>\n",
       "      <th>고객질문(요청)</th>\n",
       "      <th>상담사질문(요청)</th>\n",
       "      <th>고객답변</th>\n",
       "      <th>상담사답변</th>\n",
       "      <th>개체명</th>\n",
       "      <th>용어사전</th>\n",
       "      <th>지식베이스</th>\n",
       "    </tr>\n",
       "  </thead>\n",
       "  <tbody>\n",
       "    <tr>\n",
       "      <th>0</th>\n",
       "      <td>금융/보험</td>\n",
       "      <td>이체, 출금, 대출서비스</td>\n",
       "      <td>A4073</td>\n",
       "      <td>고객</td>\n",
       "      <td>1</td>\n",
       "      <td>전세자금대출금리</td>\n",
       "      <td></td>\n",
       "      <td>Q</td>\n",
       "      <td>신혼부부 전세자금 대출 최저금리가 얼마죠?</td>\n",
       "      <td></td>\n",
       "      <td></td>\n",
       "      <td></td>\n",
       "      <td>신혼부부, 전세자금, 대출, 최저금리</td>\n",
       "      <td>전세자금/전세자금대출/신혼부부/금리</td>\n",
       "      <td>전세자금,금리</td>\n",
       "    </tr>\n",
       "    <tr>\n",
       "      <th>1</th>\n",
       "      <td>금융/보험</td>\n",
       "      <td>이체, 출금, 대출서비스</td>\n",
       "      <td>A4073</td>\n",
       "      <td>상담사</td>\n",
       "      <td>2</td>\n",
       "      <td></td>\n",
       "      <td>전세자금대출금리</td>\n",
       "      <td>A</td>\n",
       "      <td></td>\n",
       "      <td></td>\n",
       "      <td></td>\n",
       "      <td>고정금리로 3.5%입니다.</td>\n",
       "      <td>고정금리, 3.5%</td>\n",
       "      <td>3.5%/이율</td>\n",
       "      <td>3.5%,이율</td>\n",
       "    </tr>\n",
       "    <tr>\n",
       "      <th>2</th>\n",
       "      <td>금융/보험</td>\n",
       "      <td>이체, 출금, 대출서비스</td>\n",
       "      <td>A4073</td>\n",
       "      <td>고객</td>\n",
       "      <td>3</td>\n",
       "      <td>전세자금대출금리</td>\n",
       "      <td></td>\n",
       "      <td>Q</td>\n",
       "      <td>더 저렴하게 받으려면 어떻게 해야하나요?</td>\n",
       "      <td></td>\n",
       "      <td></td>\n",
       "      <td></td>\n",
       "      <td></td>\n",
       "      <td></td>\n",
       "      <td></td>\n",
       "    </tr>\n",
       "    <tr>\n",
       "      <th>3</th>\n",
       "      <td>금융/보험</td>\n",
       "      <td>이체, 출금, 대출서비스</td>\n",
       "      <td>A4073</td>\n",
       "      <td>상담사</td>\n",
       "      <td>4</td>\n",
       "      <td></td>\n",
       "      <td>전세자금대출금리</td>\n",
       "      <td>A</td>\n",
       "      <td></td>\n",
       "      <td></td>\n",
       "      <td></td>\n",
       "      <td>변동금리로 받으시면 조금 더 저렴하게 받으실 수 있습니다.</td>\n",
       "      <td>변동금리</td>\n",
       "      <td>전세자금/변동금리/금리/신혼부부</td>\n",
       "      <td>변동금리,신혼부부</td>\n",
       "    </tr>\n",
       "    <tr>\n",
       "      <th>4</th>\n",
       "      <td>금융/보험</td>\n",
       "      <td>이체, 출금, 대출서비스</td>\n",
       "      <td>A4073</td>\n",
       "      <td>고객</td>\n",
       "      <td>5</td>\n",
       "      <td>전세자금대출금리</td>\n",
       "      <td></td>\n",
       "      <td>Q</td>\n",
       "      <td>그것 말고도 낮출 방법이 있을까요?</td>\n",
       "      <td></td>\n",
       "      <td></td>\n",
       "      <td></td>\n",
       "      <td>방법</td>\n",
       "      <td></td>\n",
       "      <td>방법</td>\n",
       "    </tr>\n",
       "    <tr>\n",
       "      <th>5</th>\n",
       "      <td>금융/보험</td>\n",
       "      <td>이체, 출금, 대출서비스</td>\n",
       "      <td>A4073</td>\n",
       "      <td>상담사</td>\n",
       "      <td>6</td>\n",
       "      <td></td>\n",
       "      <td>전세자금대출금리</td>\n",
       "      <td>A</td>\n",
       "      <td></td>\n",
       "      <td></td>\n",
       "      <td></td>\n",
       "      <td>기간을 짧게 잡아주시면 가능합니다.</td>\n",
       "      <td>기간</td>\n",
       "      <td></td>\n",
       "      <td>기간</td>\n",
       "    </tr>\n",
       "    <tr>\n",
       "      <th>6</th>\n",
       "      <td>금융/보험</td>\n",
       "      <td>이체, 출금, 대출서비스</td>\n",
       "      <td>A4073</td>\n",
       "      <td>고객</td>\n",
       "      <td>7</td>\n",
       "      <td>전세자금대출금리</td>\n",
       "      <td></td>\n",
       "      <td>Q</td>\n",
       "      <td>3.5%는 몇 년 상환인거죠?</td>\n",
       "      <td></td>\n",
       "      <td></td>\n",
       "      <td></td>\n",
       "      <td>3.5%, 상환</td>\n",
       "      <td>3.5%/이율</td>\n",
       "      <td>상환,이율</td>\n",
       "    </tr>\n",
       "    <tr>\n",
       "      <th>7</th>\n",
       "      <td>금융/보험</td>\n",
       "      <td>이체, 출금, 대출서비스</td>\n",
       "      <td>A4073</td>\n",
       "      <td>상담사</td>\n",
       "      <td>8</td>\n",
       "      <td></td>\n",
       "      <td>전세자금대출금리</td>\n",
       "      <td>A</td>\n",
       "      <td></td>\n",
       "      <td></td>\n",
       "      <td></td>\n",
       "      <td>30년 상환기준입니다.</td>\n",
       "      <td>30년, 상환기준</td>\n",
       "      <td>30년/기간</td>\n",
       "      <td>상환기준,기간</td>\n",
       "    </tr>\n",
       "    <tr>\n",
       "      <th>8</th>\n",
       "      <td>금융/보험</td>\n",
       "      <td>이체, 출금, 대출서비스</td>\n",
       "      <td>A4073</td>\n",
       "      <td>고객</td>\n",
       "      <td>9</td>\n",
       "      <td>전세자금대출금리</td>\n",
       "      <td></td>\n",
       "      <td>Q</td>\n",
       "      <td>그럼 15년 상환으로 바꾸면 금리를 조금 더 낮출 수 있다는 거군요?</td>\n",
       "      <td></td>\n",
       "      <td></td>\n",
       "      <td></td>\n",
       "      <td>15년, 상환, 금리</td>\n",
       "      <td>15년/기간</td>\n",
       "      <td>상환,기간</td>\n",
       "    </tr>\n",
       "    <tr>\n",
       "      <th>9</th>\n",
       "      <td>금융/보험</td>\n",
       "      <td>이체, 출금, 대출서비스</td>\n",
       "      <td>A4073</td>\n",
       "      <td>상담사</td>\n",
       "      <td>10</td>\n",
       "      <td></td>\n",
       "      <td>전세자금대출금리</td>\n",
       "      <td>A</td>\n",
       "      <td></td>\n",
       "      <td></td>\n",
       "      <td></td>\n",
       "      <td>네, 그렇습니다.</td>\n",
       "      <td></td>\n",
       "      <td></td>\n",
       "      <td></td>\n",
       "    </tr>\n",
       "  </tbody>\n",
       "</table>\n",
       "</div>"
      ]
     },
     "execution_count": 4,
     "metadata": {},
     "output_type": "execute_result"
    }
   ],
   "execution_count": 4
  },
  {
   "metadata": {
    "ExecuteTime": {
     "end_time": "2024-06-14T04:13:18.780177Z",
     "start_time": "2024-06-14T04:13:18.744778Z"
    }
   },
   "cell_type": "code",
   "source": [
    "\n",
    "customer_df = df[(df['QA'] == 'Q') & (df['화자'] == '고객')]\n",
    "customer_df.head()\n"
   ],
   "id": "b6673249cf3b9bf",
   "outputs": [
    {
     "data": {
      "text/plain": [
       "     도메인           카테고리 대화셋일련번호  화자 문장번호      고객의도 상담사의도 QA  \\\n",
       "0  금융/보험  이체, 출금, 대출서비스   A4073  고객    1  전세자금대출금리        Q   \n",
       "2  금융/보험  이체, 출금, 대출서비스   A4073  고객    3  전세자금대출금리        Q   \n",
       "4  금융/보험  이체, 출금, 대출서비스   A4073  고객    5  전세자금대출금리        Q   \n",
       "6  금융/보험  이체, 출금, 대출서비스   A4073  고객    7  전세자금대출금리        Q   \n",
       "8  금융/보험  이체, 출금, 대출서비스   A4073  고객    9  전세자금대출금리        Q   \n",
       "\n",
       "                                 고객질문(요청) 상담사질문(요청) 고객답변 상담사답변  \\\n",
       "0                 신혼부부 전세자금 대출 최저금리가 얼마죠?                        \n",
       "2                  더 저렴하게 받으려면 어떻게 해야하나요?                        \n",
       "4                     그것 말고도 낮출 방법이 있을까요?                        \n",
       "6                        3.5%는 몇 년 상환인거죠?                        \n",
       "8  그럼 15년 상환으로 바꾸면 금리를 조금 더 낮출 수 있다는 거군요?                        \n",
       "\n",
       "                   개체명                  용어사전    지식베이스  \n",
       "0  신혼부부, 전세자금, 대출, 최저금리  전세자금/전세자금대출/신혼부부/금리  전세자금,금리  \n",
       "2                                                      \n",
       "4                    방법                            방법  \n",
       "6              3.5%, 상환              3.5%/이율    상환,이율  \n",
       "8           15년, 상환, 금리               15년/기간    상환,기간  "
      ],
      "text/html": [
       "<div>\n",
       "<style scoped>\n",
       "    .dataframe tbody tr th:only-of-type {\n",
       "        vertical-align: middle;\n",
       "    }\n",
       "\n",
       "    .dataframe tbody tr th {\n",
       "        vertical-align: top;\n",
       "    }\n",
       "\n",
       "    .dataframe thead th {\n",
       "        text-align: right;\n",
       "    }\n",
       "</style>\n",
       "<table border=\"1\" class=\"dataframe\">\n",
       "  <thead>\n",
       "    <tr style=\"text-align: right;\">\n",
       "      <th></th>\n",
       "      <th>도메인</th>\n",
       "      <th>카테고리</th>\n",
       "      <th>대화셋일련번호</th>\n",
       "      <th>화자</th>\n",
       "      <th>문장번호</th>\n",
       "      <th>고객의도</th>\n",
       "      <th>상담사의도</th>\n",
       "      <th>QA</th>\n",
       "      <th>고객질문(요청)</th>\n",
       "      <th>상담사질문(요청)</th>\n",
       "      <th>고객답변</th>\n",
       "      <th>상담사답변</th>\n",
       "      <th>개체명</th>\n",
       "      <th>용어사전</th>\n",
       "      <th>지식베이스</th>\n",
       "    </tr>\n",
       "  </thead>\n",
       "  <tbody>\n",
       "    <tr>\n",
       "      <th>0</th>\n",
       "      <td>금융/보험</td>\n",
       "      <td>이체, 출금, 대출서비스</td>\n",
       "      <td>A4073</td>\n",
       "      <td>고객</td>\n",
       "      <td>1</td>\n",
       "      <td>전세자금대출금리</td>\n",
       "      <td></td>\n",
       "      <td>Q</td>\n",
       "      <td>신혼부부 전세자금 대출 최저금리가 얼마죠?</td>\n",
       "      <td></td>\n",
       "      <td></td>\n",
       "      <td></td>\n",
       "      <td>신혼부부, 전세자금, 대출, 최저금리</td>\n",
       "      <td>전세자금/전세자금대출/신혼부부/금리</td>\n",
       "      <td>전세자금,금리</td>\n",
       "    </tr>\n",
       "    <tr>\n",
       "      <th>2</th>\n",
       "      <td>금융/보험</td>\n",
       "      <td>이체, 출금, 대출서비스</td>\n",
       "      <td>A4073</td>\n",
       "      <td>고객</td>\n",
       "      <td>3</td>\n",
       "      <td>전세자금대출금리</td>\n",
       "      <td></td>\n",
       "      <td>Q</td>\n",
       "      <td>더 저렴하게 받으려면 어떻게 해야하나요?</td>\n",
       "      <td></td>\n",
       "      <td></td>\n",
       "      <td></td>\n",
       "      <td></td>\n",
       "      <td></td>\n",
       "      <td></td>\n",
       "    </tr>\n",
       "    <tr>\n",
       "      <th>4</th>\n",
       "      <td>금융/보험</td>\n",
       "      <td>이체, 출금, 대출서비스</td>\n",
       "      <td>A4073</td>\n",
       "      <td>고객</td>\n",
       "      <td>5</td>\n",
       "      <td>전세자금대출금리</td>\n",
       "      <td></td>\n",
       "      <td>Q</td>\n",
       "      <td>그것 말고도 낮출 방법이 있을까요?</td>\n",
       "      <td></td>\n",
       "      <td></td>\n",
       "      <td></td>\n",
       "      <td>방법</td>\n",
       "      <td></td>\n",
       "      <td>방법</td>\n",
       "    </tr>\n",
       "    <tr>\n",
       "      <th>6</th>\n",
       "      <td>금융/보험</td>\n",
       "      <td>이체, 출금, 대출서비스</td>\n",
       "      <td>A4073</td>\n",
       "      <td>고객</td>\n",
       "      <td>7</td>\n",
       "      <td>전세자금대출금리</td>\n",
       "      <td></td>\n",
       "      <td>Q</td>\n",
       "      <td>3.5%는 몇 년 상환인거죠?</td>\n",
       "      <td></td>\n",
       "      <td></td>\n",
       "      <td></td>\n",
       "      <td>3.5%, 상환</td>\n",
       "      <td>3.5%/이율</td>\n",
       "      <td>상환,이율</td>\n",
       "    </tr>\n",
       "    <tr>\n",
       "      <th>8</th>\n",
       "      <td>금융/보험</td>\n",
       "      <td>이체, 출금, 대출서비스</td>\n",
       "      <td>A4073</td>\n",
       "      <td>고객</td>\n",
       "      <td>9</td>\n",
       "      <td>전세자금대출금리</td>\n",
       "      <td></td>\n",
       "      <td>Q</td>\n",
       "      <td>그럼 15년 상환으로 바꾸면 금리를 조금 더 낮출 수 있다는 거군요?</td>\n",
       "      <td></td>\n",
       "      <td></td>\n",
       "      <td></td>\n",
       "      <td>15년, 상환, 금리</td>\n",
       "      <td>15년/기간</td>\n",
       "      <td>상환,기간</td>\n",
       "    </tr>\n",
       "  </tbody>\n",
       "</table>\n",
       "</div>"
      ]
     },
     "execution_count": 5,
     "metadata": {},
     "output_type": "execute_result"
    }
   ],
   "execution_count": 5
  },
  {
   "metadata": {
    "ExecuteTime": {
     "end_time": "2024-06-14T04:13:20.403014Z",
     "start_time": "2024-06-14T04:13:20.367222Z"
    }
   },
   "cell_type": "code",
   "source": [
    "# 필요한 컬럼만 선택하고 대화셋일련번호를 인덱스로 설정\n",
    "customer_df = customer_df[['대화셋일련번호', '고객의도','문장번호' ,'고객질문(요청)', '개체명 ', '지식베이스']]\n",
    "customer_df = customer_df.set_index('대화셋일련번호')"
   ],
   "id": "86277f314a64ab07",
   "outputs": [],
   "execution_count": 6
  },
  {
   "metadata": {
    "ExecuteTime": {
     "end_time": "2024-06-14T04:13:21.955583Z",
     "start_time": "2024-06-14T04:13:21.933777Z"
    }
   },
   "cell_type": "code",
   "source": "customer_df.columns",
   "id": "b414f6b948e90867",
   "outputs": [
    {
     "data": {
      "text/plain": [
       "Index(['고객의도', '문장번호', '고객질문(요청)', '개체명 ', '지식베이스'], dtype='object')"
      ]
     },
     "execution_count": 7,
     "metadata": {},
     "output_type": "execute_result"
    }
   ],
   "execution_count": 7
  },
  {
   "metadata": {
    "ExecuteTime": {
     "end_time": "2024-06-14T04:14:03.495789Z",
     "start_time": "2024-06-14T04:14:03.471619Z"
    }
   },
   "cell_type": "code",
   "source": [
    "#문장번호 1번만 가져오는 코드 \n",
    "question_customer_df = customer_df[customer_df['문장번호'] == '1']\n",
    "question_customer_df"
   ],
   "id": "8d958b48c2c182bb",
   "outputs": [
    {
     "data": {
      "text/plain": [
       "             고객의도 문장번호                      고객질문(요청)                  개체명   \\\n",
       "대화셋일련번호                                                                      \n",
       "A4073    전세자금대출금리    1       신혼부부 전세자금 대출 최저금리가 얼마죠?  신혼부부, 전세자금, 대출, 최저금리   \n",
       "A4074      신용대출조건    1  신용대출을 받을 수 있는 나이는 몇 살 이상인가요?       신용대출, 나이, 살, 이상   \n",
       "A4078        대출문의    1                대출문의 좀 하고 싶은데요                대출, 문의   \n",
       "A4090        이체한도    1         인터넷뱅킹 1회 이체한도는 얼마인가요?       인터넷뱅킹, 1회, 이체한도   \n",
       "A4093        대출한도    1           조건없이 신용대출 받을 수 있나요?                신용, 대출   \n",
       "...           ...  ...                           ...                   ...   \n",
       "A32421       전세대출    1     청년 버팀목전세자금 대출 만기연장 가능한가요?    버팀목, 전세자금 대출, 만기연장   \n",
       "A32422       전세대출    1           청년맞춤형전세 대출하려고 하는데요?           청년맞춤형전세, 대출   \n",
       "A32423       대출진행    1          전세대출신청한거 진행상황이 궁금한데요            전세대출, 진행상황   \n",
       "A32424      대출금상환    1         대출금 상환 관련 문의드리고 싶은데요?               대출금, 상환   \n",
       "A32425       대출기한    1            대출기한 연장 문의드리고 싶은데요              대출기한, 연장   \n",
       "\n",
       "             지식베이스  \n",
       "대화셋일련번호             \n",
       "A4073      전세자금,금리  \n",
       "A4074        나이,한도  \n",
       "A4078        문의,대출  \n",
       "A4090        1회,횟수  \n",
       "A4093      대출,금융상품  \n",
       "...            ...  \n",
       "A32421   전세자금대출,연장  \n",
       "A32422       대출,차입  \n",
       "A32423   진행상황,대출상품  \n",
       "A32424      상환,차입금  \n",
       "A32425       연장,기간  \n",
       "\n",
       "[3389 rows x 5 columns]"
      ],
      "text/html": [
       "<div>\n",
       "<style scoped>\n",
       "    .dataframe tbody tr th:only-of-type {\n",
       "        vertical-align: middle;\n",
       "    }\n",
       "\n",
       "    .dataframe tbody tr th {\n",
       "        vertical-align: top;\n",
       "    }\n",
       "\n",
       "    .dataframe thead th {\n",
       "        text-align: right;\n",
       "    }\n",
       "</style>\n",
       "<table border=\"1\" class=\"dataframe\">\n",
       "  <thead>\n",
       "    <tr style=\"text-align: right;\">\n",
       "      <th></th>\n",
       "      <th>고객의도</th>\n",
       "      <th>문장번호</th>\n",
       "      <th>고객질문(요청)</th>\n",
       "      <th>개체명</th>\n",
       "      <th>지식베이스</th>\n",
       "    </tr>\n",
       "    <tr>\n",
       "      <th>대화셋일련번호</th>\n",
       "      <th></th>\n",
       "      <th></th>\n",
       "      <th></th>\n",
       "      <th></th>\n",
       "      <th></th>\n",
       "    </tr>\n",
       "  </thead>\n",
       "  <tbody>\n",
       "    <tr>\n",
       "      <th>A4073</th>\n",
       "      <td>전세자금대출금리</td>\n",
       "      <td>1</td>\n",
       "      <td>신혼부부 전세자금 대출 최저금리가 얼마죠?</td>\n",
       "      <td>신혼부부, 전세자금, 대출, 최저금리</td>\n",
       "      <td>전세자금,금리</td>\n",
       "    </tr>\n",
       "    <tr>\n",
       "      <th>A4074</th>\n",
       "      <td>신용대출조건</td>\n",
       "      <td>1</td>\n",
       "      <td>신용대출을 받을 수 있는 나이는 몇 살 이상인가요?</td>\n",
       "      <td>신용대출, 나이, 살, 이상</td>\n",
       "      <td>나이,한도</td>\n",
       "    </tr>\n",
       "    <tr>\n",
       "      <th>A4078</th>\n",
       "      <td>대출문의</td>\n",
       "      <td>1</td>\n",
       "      <td>대출문의 좀 하고 싶은데요</td>\n",
       "      <td>대출, 문의</td>\n",
       "      <td>문의,대출</td>\n",
       "    </tr>\n",
       "    <tr>\n",
       "      <th>A4090</th>\n",
       "      <td>이체한도</td>\n",
       "      <td>1</td>\n",
       "      <td>인터넷뱅킹 1회 이체한도는 얼마인가요?</td>\n",
       "      <td>인터넷뱅킹, 1회, 이체한도</td>\n",
       "      <td>1회,횟수</td>\n",
       "    </tr>\n",
       "    <tr>\n",
       "      <th>A4093</th>\n",
       "      <td>대출한도</td>\n",
       "      <td>1</td>\n",
       "      <td>조건없이 신용대출 받을 수 있나요?</td>\n",
       "      <td>신용, 대출</td>\n",
       "      <td>대출,금융상품</td>\n",
       "    </tr>\n",
       "    <tr>\n",
       "      <th>...</th>\n",
       "      <td>...</td>\n",
       "      <td>...</td>\n",
       "      <td>...</td>\n",
       "      <td>...</td>\n",
       "      <td>...</td>\n",
       "    </tr>\n",
       "    <tr>\n",
       "      <th>A32421</th>\n",
       "      <td>전세대출</td>\n",
       "      <td>1</td>\n",
       "      <td>청년 버팀목전세자금 대출 만기연장 가능한가요?</td>\n",
       "      <td>버팀목, 전세자금 대출, 만기연장</td>\n",
       "      <td>전세자금대출,연장</td>\n",
       "    </tr>\n",
       "    <tr>\n",
       "      <th>A32422</th>\n",
       "      <td>전세대출</td>\n",
       "      <td>1</td>\n",
       "      <td>청년맞춤형전세 대출하려고 하는데요?</td>\n",
       "      <td>청년맞춤형전세, 대출</td>\n",
       "      <td>대출,차입</td>\n",
       "    </tr>\n",
       "    <tr>\n",
       "      <th>A32423</th>\n",
       "      <td>대출진행</td>\n",
       "      <td>1</td>\n",
       "      <td>전세대출신청한거 진행상황이 궁금한데요</td>\n",
       "      <td>전세대출, 진행상황</td>\n",
       "      <td>진행상황,대출상품</td>\n",
       "    </tr>\n",
       "    <tr>\n",
       "      <th>A32424</th>\n",
       "      <td>대출금상환</td>\n",
       "      <td>1</td>\n",
       "      <td>대출금 상환 관련 문의드리고 싶은데요?</td>\n",
       "      <td>대출금, 상환</td>\n",
       "      <td>상환,차입금</td>\n",
       "    </tr>\n",
       "    <tr>\n",
       "      <th>A32425</th>\n",
       "      <td>대출기한</td>\n",
       "      <td>1</td>\n",
       "      <td>대출기한 연장 문의드리고 싶은데요</td>\n",
       "      <td>대출기한, 연장</td>\n",
       "      <td>연장,기간</td>\n",
       "    </tr>\n",
       "  </tbody>\n",
       "</table>\n",
       "<p>3389 rows × 5 columns</p>\n",
       "</div>"
      ]
     },
     "execution_count": 11,
     "metadata": {},
     "output_type": "execute_result"
    }
   ],
   "execution_count": 11
  },
  {
   "metadata": {
    "ExecuteTime": {
     "end_time": "2024-06-14T05:55:27.284960Z",
     "start_time": "2024-06-14T05:55:27.265972Z"
    }
   },
   "cell_type": "code",
   "source": [
    "# Filter rows where \"고객의도\" or \"개체명\" contains \"대출\"\n",
    "loan_df = question_customer_df[question_customer_df['고객의도'].str.contains('대출') | question_customer_df['개체명 '].str.contains('대출')]"
   ],
   "id": "9601087bc576b312",
   "outputs": [],
   "execution_count": 16
  },
  {
   "metadata": {
    "ExecuteTime": {
     "end_time": "2024-06-14T05:44:54.976469Z",
     "start_time": "2024-06-14T05:44:54.846524Z"
    }
   },
   "cell_type": "code",
   "source": "null_question_customer_df = question_customer_df[question_customer_df['고객의도'] == '']",
   "id": "6e4b337f6ec03a53",
   "outputs": [],
   "execution_count": 12
  },
  {
   "metadata": {},
   "cell_type": "markdown",
   "source": [
    "## 고객의도 별 데이터 전처리\n",
    "##주택담보대출, 전세자금대출, 신용대출, 자동차 대출\n",
    "\n"
   ],
   "id": "966c687bdab7eadc"
  },
  {
   "metadata": {
    "ExecuteTime": {
     "end_time": "2024-06-15T05:03:15.486030Z",
     "start_time": "2024-06-15T05:03:15.171703Z"
    }
   },
   "cell_type": "code",
   "source": [
    "\n",
    "loan_df = pd.read_excel(\"loan.xlsx\")\n",
    "print(\"전체 데이터셋 : \",loan_df.shape)"
   ],
   "id": "f1d984741c071af1",
   "outputs": [
    {
     "name": "stdout",
     "output_type": "stream",
     "text": [
      "전체 데이터셋 :  (1448, 6)\n"
     ]
    }
   ],
   "execution_count": 7
  },
  {
   "metadata": {
    "ExecuteTime": {
     "end_time": "2024-06-15T05:03:16.182117Z",
     "start_time": "2024-06-15T05:03:16.144793Z"
    }
   },
   "cell_type": "code",
   "source": [
    "#주택담보대출\n",
    "loan_building_df = loan_df[loan_df['고객질문(요청)'].str.contains('주택') | loan_df['개체명 '].str.contains('주택') | loan_df['고객의도'].str.contains('주택')] \n",
    "loan_building_df['고객의도'] = \"주택담보대출\"\n",
    "#전세자금대출\n",
    "loan_full_df = loan_df[loan_df['고객질문(요청)'].str.contains('전세') | loan_df['개체명 '].str.contains('전세') | loan_df['고객의도'].str.contains('전세')]\n",
    "loan_full_df[\"고객의도\"] = \"전세자금대출\"\n",
    "#신용대출\n",
    "loan_cred_df = loan_df[loan_df['고객질문(요청)'].str.contains('신용') | loan_df['개체명 '].str.contains('신용')| loan_df['고객의도'].str.contains('신용')]\n",
    "loan_cred_df[\"고객의도\"] = \"신용대출\"\n",
    "#자동차 대출\n",
    "loan_car_df = loan_df[loan_df['고객질문(요청)'].str.contains('자동차') | loan_df['개체명 '].str.contains('자동차')| loan_df['고객의도'].str.contains('자동차')]\n",
    "loan_car_df[\"고객의도\"] = \"자동차대출\""
   ],
   "id": "62a039fabf87abd8",
   "outputs": [
    {
     "name": "stderr",
     "output_type": "stream",
     "text": [
      "C:\\Users\\wmk51\\AppData\\Local\\Temp\\ipykernel_21964\\3572175721.py:3: SettingWithCopyWarning: \n",
      "A value is trying to be set on a copy of a slice from a DataFrame.\n",
      "Try using .loc[row_indexer,col_indexer] = value instead\n",
      "\n",
      "See the caveats in the documentation: https://pandas.pydata.org/pandas-docs/stable/user_guide/indexing.html#returning-a-view-versus-a-copy\n",
      "  loan_building_df['고객의도'] = \"주택담보대출\"\n",
      "C:\\Users\\wmk51\\AppData\\Local\\Temp\\ipykernel_21964\\3572175721.py:6: SettingWithCopyWarning: \n",
      "A value is trying to be set on a copy of a slice from a DataFrame.\n",
      "Try using .loc[row_indexer,col_indexer] = value instead\n",
      "\n",
      "See the caveats in the documentation: https://pandas.pydata.org/pandas-docs/stable/user_guide/indexing.html#returning-a-view-versus-a-copy\n",
      "  loan_full_df[\"고객의도\"] = \"전세자금대출\"\n",
      "C:\\Users\\wmk51\\AppData\\Local\\Temp\\ipykernel_21964\\3572175721.py:9: SettingWithCopyWarning: \n",
      "A value is trying to be set on a copy of a slice from a DataFrame.\n",
      "Try using .loc[row_indexer,col_indexer] = value instead\n",
      "\n",
      "See the caveats in the documentation: https://pandas.pydata.org/pandas-docs/stable/user_guide/indexing.html#returning-a-view-versus-a-copy\n",
      "  loan_cred_df[\"고객의도\"] = \"신용대출\"\n",
      "C:\\Users\\wmk51\\AppData\\Local\\Temp\\ipykernel_21964\\3572175721.py:12: SettingWithCopyWarning: \n",
      "A value is trying to be set on a copy of a slice from a DataFrame.\n",
      "Try using .loc[row_indexer,col_indexer] = value instead\n",
      "\n",
      "See the caveats in the documentation: https://pandas.pydata.org/pandas-docs/stable/user_guide/indexing.html#returning-a-view-versus-a-copy\n",
      "  loan_car_df[\"고객의도\"] = \"자동차대출\"\n"
     ]
    }
   ],
   "execution_count": 8
  },
  {
   "metadata": {
    "ExecuteTime": {
     "end_time": "2024-06-15T05:03:17.369153Z",
     "start_time": "2024-06-15T05:03:17.360777Z"
    }
   },
   "cell_type": "code",
   "source": [
    "print(\"주택담보대출 : \", loan_building_df.shape)\n",
    "print(\"전세자금대출 : \", loan_full_df.shape)\n",
    "print(\"신용대출 : \", loan_cred_df.shape)\n",
    "print(\"자동차 대출 : \", loan_car_df.shape)"
   ],
   "id": "8ee3d49bc25a808d",
   "outputs": [
    {
     "name": "stdout",
     "output_type": "stream",
     "text": [
      "주택담보대출 :  (116, 6)\n",
      "전세자금대출 :  (184, 6)\n",
      "신용대출 :  (189, 6)\n",
      "자동차 대출 :  (5, 6)\n"
     ]
    }
   ],
   "execution_count": 9
  },
  {
   "metadata": {
    "ExecuteTime": {
     "end_time": "2024-06-15T05:03:54.663991Z",
     "start_time": "2024-06-15T05:03:54.628915Z"
    }
   },
   "cell_type": "code",
   "source": [
    "# Concatenate the DataFrames\n",
    "combined_df = pd.concat([loan_building_df, loan_full_df, loan_cred_df, loan_car_df], axis=0)\n",
    "combined_df.drop(columns=['문장번호','지식베이스'],inplace=True)\n",
    "# Print the shape of the combined DataFrame\n",
    "print(\"Combined DataFrame : \", combined_df.shape)\n",
    "\n",
    "combined_df.to_excel(\"corpus.xlsx\")"
   ],
   "id": "45e01606e5cb58b1",
   "outputs": [
    {
     "name": "stdout",
     "output_type": "stream",
     "text": [
      "Combined DataFrame :  (494, 4)\n"
     ]
    },
    {
     "ename": "TypeError",
     "evalue": "NDFrame.to_excel() got an unexpected keyword argument 'encoding'",
     "output_type": "error",
     "traceback": [
      "\u001B[1;31m---------------------------------------------------------------------------\u001B[0m",
      "\u001B[1;31mTypeError\u001B[0m                                 Traceback (most recent call last)",
      "Cell \u001B[1;32mIn[12], line 7\u001B[0m\n\u001B[0;32m      4\u001B[0m \u001B[38;5;66;03m# Print the shape of the combined DataFrame\u001B[39;00m\n\u001B[0;32m      5\u001B[0m \u001B[38;5;28mprint\u001B[39m(\u001B[38;5;124m\"\u001B[39m\u001B[38;5;124mCombined DataFrame : \u001B[39m\u001B[38;5;124m\"\u001B[39m, combined_df\u001B[38;5;241m.\u001B[39mshape)\n\u001B[1;32m----> 7\u001B[0m \u001B[43mcombined_df\u001B[49m\u001B[38;5;241;43m.\u001B[39;49m\u001B[43mto_excel\u001B[49m\u001B[43m(\u001B[49m\u001B[38;5;124;43m\"\u001B[39;49m\u001B[38;5;124;43mcorpus.xlsx\u001B[39;49m\u001B[38;5;124;43m\"\u001B[39;49m\u001B[43m,\u001B[49m\u001B[43mencoding\u001B[49m\u001B[38;5;241;43m=\u001B[39;49m\u001B[38;5;124;43m\"\u001B[39;49m\u001B[38;5;124;43mutf-8\u001B[39;49m\u001B[38;5;124;43m\"\u001B[39;49m\u001B[43m)\u001B[49m\n",
      "File \u001B[1;32m~\\anaconda3\\envs\\chatbot\\Lib\\site-packages\\pandas\\util\\_decorators.py:333\u001B[0m, in \u001B[0;36mdeprecate_nonkeyword_arguments.<locals>.decorate.<locals>.wrapper\u001B[1;34m(*args, **kwargs)\u001B[0m\n\u001B[0;32m    327\u001B[0m \u001B[38;5;28;01mif\u001B[39;00m \u001B[38;5;28mlen\u001B[39m(args) \u001B[38;5;241m>\u001B[39m num_allow_args:\n\u001B[0;32m    328\u001B[0m     warnings\u001B[38;5;241m.\u001B[39mwarn(\n\u001B[0;32m    329\u001B[0m         msg\u001B[38;5;241m.\u001B[39mformat(arguments\u001B[38;5;241m=\u001B[39m_format_argument_list(allow_args)),\n\u001B[0;32m    330\u001B[0m         \u001B[38;5;167;01mFutureWarning\u001B[39;00m,\n\u001B[0;32m    331\u001B[0m         stacklevel\u001B[38;5;241m=\u001B[39mfind_stack_level(),\n\u001B[0;32m    332\u001B[0m     )\n\u001B[1;32m--> 333\u001B[0m \u001B[38;5;28;01mreturn\u001B[39;00m \u001B[43mfunc\u001B[49m\u001B[43m(\u001B[49m\u001B[38;5;241;43m*\u001B[39;49m\u001B[43margs\u001B[49m\u001B[43m,\u001B[49m\u001B[43m \u001B[49m\u001B[38;5;241;43m*\u001B[39;49m\u001B[38;5;241;43m*\u001B[39;49m\u001B[43mkwargs\u001B[49m\u001B[43m)\u001B[49m\n",
      "\u001B[1;31mTypeError\u001B[0m: NDFrame.to_excel() got an unexpected keyword argument 'encoding'"
     ]
    }
   ],
   "execution_count": 12
  },
  {
   "metadata": {
    "ExecuteTime": {
     "end_time": "2024-06-15T05:55:03.062118Z",
     "start_time": "2024-06-15T05:55:02.979402Z"
    }
   },
   "cell_type": "code",
   "source": "df = pd.read_excel(\"corpus.xlsx\")\n",
   "id": "bc6aa09beb884e84",
   "outputs": [],
   "execution_count": 23
  },
  {
   "metadata": {},
   "cell_type": "code",
   "outputs": [],
   "execution_count": null,
   "source": "",
   "id": "36013b37a06e0e30"
  },
  {
   "metadata": {},
   "cell_type": "markdown",
   "source": "### total_train_data.csv 만들기    ",
   "id": "39db9909b9355a27"
  },
  {
   "metadata": {
    "ExecuteTime": {
     "end_time": "2024-06-15T05:55:09.453050Z",
     "start_time": "2024-06-15T05:55:09.448763Z"
    }
   },
   "cell_type": "code",
   "source": "total_train_df = df[['고객의도', '고객질문(요청)']]",
   "id": "be5f38f807506e74",
   "outputs": [],
   "execution_count": 24
  },
  {
   "metadata": {
    "ExecuteTime": {
     "end_time": "2024-06-15T05:55:09.891799Z",
     "start_time": "2024-06-15T05:55:09.885075Z"
    }
   },
   "cell_type": "code",
   "source": "total_train_df['고객의도'].unique()",
   "id": "300882b0de8e756b",
   "outputs": [
    {
     "data": {
      "text/plain": [
       "array(['주택담보대출', '전세자금대출', '신용대출', '자동차대출'], dtype=object)"
      ]
     },
     "execution_count": 25,
     "metadata": {},
     "output_type": "execute_result"
    }
   ],
   "execution_count": 25
  },
  {
   "metadata": {
    "ExecuteTime": {
     "end_time": "2024-06-15T05:55:10.353360Z",
     "start_time": "2024-06-15T05:55:10.346602Z"
    }
   },
   "cell_type": "code",
   "source": [
    "# 고객의도 값을 숫자로 매핑하는 dictionary 생성\n",
    "intent_to_num = {\n",
    "    '주택담보대출': 0,\n",
    "    '전세자금대출': 1,\n",
    "    '신용대출': 2,\n",
    "    '자동차대출': 3\n",
    "}\n",
    "\n",
    "# 고객의도 열의 값을 숫자로 변환\n",
    "total_train_df['고객의도'] = total_train_df['고객의도'].map(intent_to_num)"
   ],
   "id": "1729930a17013579",
   "outputs": [
    {
     "name": "stderr",
     "output_type": "stream",
     "text": [
      "C:\\Users\\wmk51\\AppData\\Local\\Temp\\ipykernel_21964\\1467157014.py:10: SettingWithCopyWarning: \n",
      "A value is trying to be set on a copy of a slice from a DataFrame.\n",
      "Try using .loc[row_indexer,col_indexer] = value instead\n",
      "\n",
      "See the caveats in the documentation: https://pandas.pydata.org/pandas-docs/stable/user_guide/indexing.html#returning-a-view-versus-a-copy\n",
      "  total_train_df['고객의도'] = total_train_df['고객의도'].map(intent_to_num)\n"
     ]
    }
   ],
   "execution_count": 26
  },
  {
   "metadata": {
    "ExecuteTime": {
     "end_time": "2024-06-15T05:56:10.487098Z",
     "start_time": "2024-06-15T05:56:10.470878Z"
    }
   },
   "cell_type": "code",
   "source": "total_train_df.to_csv(\"total_train_data.csv\",encoding='utf-8',index=False)",
   "id": "2c0fd7bc41ec45c0",
   "outputs": [],
   "execution_count": 28
  },
  {
   "metadata": {},
   "cell_type": "code",
   "outputs": [],
   "execution_count": null,
   "source": "",
   "id": "1ec69a03da3dd625"
  }
 ],
 "metadata": {
  "kernelspec": {
   "display_name": "Python 3",
   "language": "python",
   "name": "python3"
  },
  "language_info": {
   "codemirror_mode": {
    "name": "ipython",
    "version": 2
   },
   "file_extension": ".py",
   "mimetype": "text/x-python",
   "name": "python",
   "nbconvert_exporter": "python",
   "pygments_lexer": "ipython2",
   "version": "2.7.6"
  }
 },
 "nbformat": 4,
 "nbformat_minor": 5
}
