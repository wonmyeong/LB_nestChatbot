{
 "cells": [
  {
   "cell_type": "code",
   "id": "initial_id",
   "metadata": {
    "collapsed": true,
    "ExecuteTime": {
     "end_time": "2024-06-15T05:13:07.580193Z",
     "start_time": "2024-06-15T05:12:59.451879Z"
    }
   },
   "source": [
    "import pandas as pd\n",
    "import numpy as np\n",
    "from utils.Preprocess import Preprocess\n",
    "from tensorflow.keras.preprocessing.text import Tokenizer\n",
    "import pickle\n",
    "import chardet"
   ],
   "outputs": [],
   "execution_count": 28
  },
  {
   "metadata": {
    "ExecuteTime": {
     "end_time": "2024-06-15T05:09:11.050570Z",
     "start_time": "2024-06-15T05:09:11.044122Z"
    }
   },
   "cell_type": "code",
   "source": [
    "def read_corpus_data(filename):\n",
    "    df= pd.read_excel(filename)\n",
    "    df.set_index(\"대화셋일련번호\")\n",
    "    df.drop(columns=[\"Unnamed: 0\"], inplace=True)\n",
    "    data = df['고객질문(요청)'].tolist()\n",
    "    return data\n",
    "    "
   ],
   "id": "adc531527a36381",
   "outputs": [],
   "execution_count": 26
  },
  {
   "metadata": {
    "ExecuteTime": {
     "end_time": "2024-06-15T05:14:13.462296Z",
     "start_time": "2024-06-15T05:14:13.371990Z"
    }
   },
   "cell_type": "code",
   "source": "corpus_data=read_corpus_data(\"C:\\\\Users\\\\wmk51\\\\PycharmProjects\\\\LB_project\\\\data\\\\corpus.xlsx\")",
   "id": "6b62dd816af66a2e",
   "outputs": [],
   "execution_count": 30
  },
  {
   "metadata": {},
   "cell_type": "code",
   "source": [
    "p = Preprocess()\n",
    "dict = []\n",
    "for c in corpus_data:\n",
    "    pos = p.pos(c)\n",
    "    for k in pos:\n",
    "        dict.append(k[0])\n",
    "        \n",
    "\n",
    "        "
   ],
   "id": "cb395856b78d8910",
   "outputs": [],
   "execution_count": null
  },
  {
   "metadata": {
    "ExecuteTime": {
     "end_time": "2024-06-15T05:17:54.909392Z",
     "start_time": "2024-06-15T05:17:54.839437Z"
    }
   },
   "cell_type": "code",
   "source": [
    "tokenizer = Tokenizer(oov_token=\"OOV\")\n",
    "tokenizer.fit_on_texts(dict)\n",
    "word_index = tokenizer.word_index\n",
    "\n",
    "f = open(\"chatbot_dict.bin\",\"wb\")\n",
    "try:\n",
    "    pickle.dump(word_index, f)\n",
    "except Exception as e:\n",
    "    print(e)\n",
    "finally:\n",
    "    f.close()"
   ],
   "id": "299237042320ee08",
   "outputs": [],
   "execution_count": 33
  },
  {
   "metadata": {},
   "cell_type": "code",
   "outputs": [],
   "execution_count": null,
   "source": "",
   "id": "7f4556ff9369c210"
  }
 ],
 "metadata": {
  "kernelspec": {
   "display_name": "Python 3",
   "language": "python",
   "name": "python3"
  },
  "language_info": {
   "codemirror_mode": {
    "name": "ipython",
    "version": 2
   },
   "file_extension": ".py",
   "mimetype": "text/x-python",
   "name": "python",
   "nbconvert_exporter": "python",
   "pygments_lexer": "ipython2",
   "version": "2.7.6"
  }
 },
 "nbformat": 4,
 "nbformat_minor": 5
}
